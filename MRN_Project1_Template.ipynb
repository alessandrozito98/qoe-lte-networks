{
  "cells": [
    {
      "cell_type": "code",
      "execution_count": 2,
      "metadata": {
        "collapsed": true,
        "id": "yyo7Y0BFPEzJ"
      },
      "outputs": [],
      "source": [
        "import numpy as np\n",
        "import pandas as pd\n",
        "%matplotlib inline\n",
        "from matplotlib import pyplot as plt\n",
        "\n",
        "from sklearn import linear_model\n",
        "from sklearn import metrics\n",
        "from sklearn import model_selection\n",
        "from sklearn.linear_model import LogisticRegression\n"
      ]
    },
    {
      "cell_type": "code",
      "execution_count": null,
      "metadata": {
        "id": "ZVHy2_qgPEzK"
      },
      "outputs": [],
      "source": [
        "'''\n",
        "Authors: \n",
        "Andrea Pimpinella <andrea.pimpinella@polimi.it>,\n",
        "Alessandro E. C. Redondi <alessandroenrico.redondi@polimi.it>\n",
        "Antonio Capone  <alessandroenrico.redondi@polimi.it>\n",
        "\n",
        "This code preprocesses raw data and perform features extraction for Prediction Model of Video Quality Long Term QoE\n",
        "use case.\n",
        "'''"
      ]
    },
    {
      "cell_type": "code",
      "execution_count": 3,
      "metadata": {
        "id": "o0k4RwVXPEzL"
      },
      "outputs": [],
      "source": [
        "#USEFUL FUNCTIONS FOR PLOTTING\n",
        "\n",
        "def plot_cdf(data, votes, bin_edges, ax, xlabel=None, color=None):\n",
        "\n",
        "    '''\n",
        "    This function is useful to understand whether in inout feature \"data\" there is information which is correlated to the\n",
        "    satisfaction of the users.\n",
        "    Generally speaking, the meaning of the CDFs is that, if there is a gap between the distributions of the data\n",
        "    conditioned to the satisfaction class of the corresponding users, it means that the information in the data is\n",
        "    correlated to users satisfaction and thus can be learnt by a supervised classifier.\n",
        "    Generally speaking, looking at data distributions is the first step to decide whether some data may be useful or\n",
        "    not for ML problems.\n",
        "    :param data: data to be plot (one-dimensional array)\n",
        "    :param votes: satisfaction labels, int; if already binary, set threshold to None\n",
        "    :param bin_edges: array of type  np.linspace(min(data), max(data), num_bins+1)\n",
        "    :param ax: axis of type plt.subplots(figsize=(a,b));\n",
        "    :param xlabel: label to gice to x axis\n",
        "    :param color: axis color\n",
        "    :return:\n",
        "    '''\n",
        "\n",
        "    if xlabel is None:\n",
        "        xlabel = 'your data'\n",
        "    if color is None:\n",
        "        color = 'black'\n",
        "\n",
        "    yt = votes.copy()\n",
        "\n",
        "    neg, _ = np.histogram(data[yt == +1], bins=bin_edges)  # count number of evidences per bin\n",
        "    pos, _ = np.histogram(data[yt == 0], bins=bin_edges)\n",
        "\n",
        "    sumpos =  sum(pos)\n",
        "    sumneg =  sum(neg)\n",
        "    pos = pos.astype(float) / sumpos  # normalize to total number of evidences\n",
        "    neg = neg.astype(float) / sumneg\n",
        "\n",
        "    xrange = bin_edges[1:] - bin_edges[:1]\n",
        "    \n",
        "    title = 'CDF'\n",
        "    ax.plot(xrange, np.cumsum(pos))\n",
        "    ax.plot(xrange, np.cumsum(neg))\n",
        "    ax.xaxis.label.set_color(color)\n",
        "    ax.yaxis.label.set_color(color)\n",
        "    ax.tick_params(axis='x', colors=color)\n",
        "    ax.tick_params(axis='y', colors=color)\n",
        "    ax.xaxis.grid(True)\n",
        "    ax.yaxis.grid(True)\n",
        "    ax.set_xlabel(xlabel)\n",
        "    ax.set_title(title, color=color)\n",
        "    ax.legend(['High QoE', 'Low QoE'])\n",
        "    return\n",
        "\n",
        "# USEFUL FUNCTIONS FOR PREDICTION\n",
        "\n",
        "def hyperparameter_tuning(train_sample, train_target, names, classifiers, parameters_grid,\n",
        "                          n_splits_in=None, ref_metric=None):\n",
        "    '''\n",
        "    This function applies a cross validation strategy to select, for each of the classifiers provided in input, \n",
        "    the best hyper-parameters (hp) values out of a pool of candidate values (Grid Search Procedure). \n",
        "    The function saves on a file the best hp values, for the input Training Fold. Finally, it returns the prediction \n",
        "    performance on the input Validation Fold.\n",
        "    (ref: https://machinelearningmastery.com/hyperparameter-optimization-with-random-search-and-grid-search/)\n",
        "\n",
        "    :param train_sample: training samples set\n",
        "    :param train_target: training users satisfaction labels\n",
        "    :param test_sample: test samples set\n",
        "    :param test_target: test users satisfaction labels\n",
        "    :param names: involved classifiers names\n",
        "    :param classifiers: involved classifiers scikitlearn functions\n",
        "    :param n_splits_in: number of k fold splits for validation (our results were derived with 10 folds, which is the default value)\n",
        "    :param ref_metric: optimization metric (sklearn.metrics); default roc_auc\n",
        "    :return: prediction performance on the test set (AUC)\n",
        "    '''\n",
        "\n",
        "    if ref_metric is None:\n",
        "        ref_metric = 'roc_auc'\n",
        "    if n_splits_in is None:\n",
        "        n_splits_in = 2\n",
        "\n",
        "    best_hp = pd.DataFrame(index = names, columns = ['BestHP_Values'])\n",
        "    print('Choose Best hyper-parameters through Cross Validation')\n",
        "    text_file = open('Best_hyper-parameters (HP Tuning).txt', \"w\") # If this filename already exists in folder, \n",
        "    # results will be appended to older file. Delete older version to fill a new txt file.\n",
        "    text_file.write(\"############\\n\")\n",
        "    for name, clf in zip(names, classifiers):\n",
        "        text_file.write(\"{}:\\n\".format(name))\n",
        "        print(\"############\")\n",
        "        print(' Classifier {} - Processing'.format(name))\n",
        "        grid = parameters_grid[names.index(name)] #take hyper-parameters candidate values grid \n",
        "        estimator = model_selection.GridSearchCV(clf, grid, scoring=ref_metric, iid=True,refit=True,\n",
        "                                                 cv=n_splits_in).fit(train_sample, train_target) #Grid Search \n",
        "        bp = estimator.best_params_\n",
        "        print(' Best Parameters Values: {}'.format(bp))\n",
        "        print(list(bp.values()))\n",
        "        best_hp.at[name,'BestHP_Values'] = list(bp.values())\n",
        "        text_file.write(\"{}:\\n\".format(estimator.best_params_))\n",
        "        text_file.write(\"############\\n\")\n",
        "        print(\"############\")\n",
        "    text_file.write(\"******************\\n\")\n",
        "    text_file.close()\n",
        "\n",
        "    return best_hp\n",
        "    \n",
        "\n",
        "def direct_prediction(train_sample, train_target, test_sample, test_target, names, classifiers):\n",
        "    '''\n",
        "    This function takes in input a group of classifiers with already fixed HP values, train them on the input data \n",
        "    train_sample --> train_target and finally performs prediction on the input test_sample-->test_target. \n",
        "    \n",
        "    Note that each classifier outputs the probability that a given test user belongs to the\n",
        "    class of Dissatisfied Users. By thresholding such probability, one can effectively assign to the test user \n",
        "    either the Satisfied ('0') or the Dissatisfied ('1') label. Computing the FPR and TPR of the classifier for \n",
        "    different threshold values, it is possible to draw a ROC Curve.\n",
        "    Finally, the performance in terms of Area Under the ROC Curve are returned as output.\n",
        "    (ref: https://machinelearningmastery.com/roc-curves-and-precision-recall-curves-for-classification-in-python/)\n",
        "    \n",
        "    \n",
        "    :param train_sample: training samples set\n",
        "    :param train_target: training users satisfaction labels\n",
        "    :param test_sample: test samples set\n",
        "    :param test_target: test users satisfaction labels\n",
        "    :param names: names of the considered classifiers \n",
        "    :param classifiers: the scikit methods corresponding to the considered classifiers\n",
        "    :return: prediction performance (AUC) on the test set\n",
        "    '''\n",
        "    \n",
        "    perf = pd.DataFrame(index=names,columns=['AUC'])\n",
        "    prediction_proba = np.empty((len(names), len(test_sample)))\n",
        "\n",
        "    plt.figure(figsize=(20, 5))\n",
        "    color = ['b', 'r', 'g', 'c', 'k', 'm'] #choose a color for each classifier\n",
        "    color = color[:len(names)]\n",
        "    plt.plot([0, 1], [0, 1], linestyle='--', lw=2, color='r', label='Chance', alpha=.3) # ROC Curve of a dummy \n",
        "    # Classifier\n",
        "    for name, clf in zip(names, classifiers):\n",
        "        print(' Classifier {} - Fit & Predict'.format(name))\n",
        "        estimator = clf.fit(train_sample, train_target) # fit the classifier on training set\n",
        "\n",
        "        prediction_proba[names.index(name),:] = estimator.predict_proba(test_sample)[:, 1] # generate, for each test\n",
        "        # user, the probability that the user is not satisfied\n",
        "\n",
        "        fpr, tpr, decision_thresholds = metrics.roc_curve(test_target, prediction_proba[names.index(name),:]\n",
        "                                                          , pos_label=1)\n",
        "\n",
        "        perf.at[name,'AUC'] = metrics.auc(fpr, tpr)\n",
        "        plt.plot(fpr, tpr, color=color[names.index(name)], label=r'ROC %s (AUC = %0.3f)' % (name,perf.loc[name,\n",
        "                                                                                                          'AUC']), lw=2, alpha=.8)\n",
        "        perf.at[name,'AUC'] = metrics.auc(fpr, tpr)\n",
        "    \n",
        "    plt.plot(0, 1, '*', color='k', label=r'Optimum: FPR = 0, TPR = 1', lw=2, alpha=.8, markersize=15)\n",
        "    plt.xlim([-0.05, 1.05])\n",
        "    plt.ylim([-0.05, 1.05])\n",
        "    plt.xticks(color='black')\n",
        "    plt.yticks(color='black')\n",
        "    plt.grid(1)\n",
        "    plt.xlabel('False Positive Rate', color='black', fontsize=14)\n",
        "    plt.ylabel('True Positive Rate', color='black', fontsize=14)\n",
        "    plt.legend(loc=\"lower right\")\n",
        "    plt.show()\n",
        "    #plt.savefig('ROC.png', bbox_inches='tight') #uncomment to save the plot\n",
        "    return perf\n",
        "\n",
        "\n",
        "        "
      ]
    },
    {
      "cell_type": "markdown",
      "metadata": {
        "id": "m_Ox_IriPEzM"
      },
      "source": [
        "# Import Training Data"
      ]
    },
    {
      "cell_type": "code",
      "execution_count": 6,
      "metadata": {
        "colab": {
          "base_uri": "https://localhost:8080/"
        },
        "id": "-Al1SOxfPEzM",
        "outputId": "900dd012-edf5-488a-81e2-f421be46b3d9"
      },
      "outputs": [
        {
          "name": "stdout",
          "output_type": "stream",
          "text": [
            "Train Data: (18970, 12)\n",
            "Train Target: (18970,)\n"
          ]
        }
      ],
      "source": [
        "if 'dataset' in globals():\n",
        "    del dataset\n",
        "if 'ground_truth' in globals():\n",
        "    del ground_truth\n",
        "\n",
        "path = 'data/' # PUT YOUR FILE PATH\n",
        "basic_train = pd.read_csv(path+'BasicDataset_Training_MRN.csv')\n",
        "\n",
        "dataset = basic_train.drop(['User_Satisfaction','Unnamed: 0', 'Unnamed: 0.1'], axis=1)\n",
        "ground_truth = basic_train.loc[:, 'User_Satisfaction'].copy()\n",
        "print('Train Data:', dataset.shape)\n",
        "print('Train Target:', ground_truth.shape)\n",
        "\n"
      ]
    },
    {
      "cell_type": "code",
      "execution_count": null,
      "metadata": {
        "colab": {
          "base_uri": "https://localhost:8080/",
          "height": 221
        },
        "collapsed": true,
        "id": "stN0psG5PEzN",
        "outputId": "75446fec-1a61-4d55-95aa-64412d7538c2"
      },
      "outputs": [
        {
          "data": {
            "text/html": [
              "<div>\n",
              "<style scoped>\n",
              "    .dataframe tbody tr th:only-of-type {\n",
              "        vertical-align: middle;\n",
              "    }\n",
              "\n",
              "    .dataframe tbody tr th {\n",
              "        vertical-align: top;\n",
              "    }\n",
              "\n",
              "    .dataframe thead th {\n",
              "        text-align: right;\n",
              "    }\n",
              "</style>\n",
              "<table border=\"1\" class=\"dataframe\">\n",
              "  <thead>\n",
              "    <tr style=\"text-align: right;\">\n",
              "      <th></th>\n",
              "      <th>Cumulative_YoutubeSess_LTE_DL_Time</th>\n",
              "      <th>Cumulative_YoutubeSess_LTE_DL_Volume</th>\n",
              "      <th>Cumulative_YoutubeSess_UMTS_DL_Time</th>\n",
              "      <th>Cumulative_YoutubeSess_UMTS_DL_Volume</th>\n",
              "      <th>Max_RSRQ</th>\n",
              "      <th>Max_SNR</th>\n",
              "      <th>Cumulative_Full_Service_Time_UMTS</th>\n",
              "      <th>Cumulative_Lim_Service_Time_UMTS</th>\n",
              "      <th>Cumulative_No_Service_Time_UMTS</th>\n",
              "      <th>Cumulative_Full_Service_Time_LTE</th>\n",
              "      <th>Cumulative_Lim_Service_Time_LTE</th>\n",
              "      <th>Cumulative_No_Service_Time_LTE</th>\n",
              "    </tr>\n",
              "  </thead>\n",
              "  <tbody>\n",
              "    <tr>\n",
              "      <th>0</th>\n",
              "      <td>100.727</td>\n",
              "      <td>110854.0</td>\n",
              "      <td>0.000</td>\n",
              "      <td>0.0</td>\n",
              "      <td>-6.0</td>\n",
              "      <td>27.8</td>\n",
              "      <td>53917</td>\n",
              "      <td>5636</td>\n",
              "      <td>2043</td>\n",
              "      <td>213227</td>\n",
              "      <td>3996</td>\n",
              "      <td>2883</td>\n",
              "    </tr>\n",
              "    <tr>\n",
              "      <th>1</th>\n",
              "      <td>9.324</td>\n",
              "      <td>93.0</td>\n",
              "      <td>0.000</td>\n",
              "      <td>0.0</td>\n",
              "      <td>-3.0</td>\n",
              "      <td>-19.8</td>\n",
              "      <td>85021</td>\n",
              "      <td>1761</td>\n",
              "      <td>1223</td>\n",
              "      <td>87700</td>\n",
              "      <td>4287</td>\n",
              "      <td>1251</td>\n",
              "    </tr>\n",
              "    <tr>\n",
              "      <th>2</th>\n",
              "      <td>2715.406</td>\n",
              "      <td>2271118.0</td>\n",
              "      <td>580.907</td>\n",
              "      <td>63891.0</td>\n",
              "      <td>-3.0</td>\n",
              "      <td>-19.8</td>\n",
              "      <td>123462</td>\n",
              "      <td>4664</td>\n",
              "      <td>2715</td>\n",
              "      <td>203846</td>\n",
              "      <td>5776</td>\n",
              "      <td>8748</td>\n",
              "    </tr>\n",
              "    <tr>\n",
              "      <th>3</th>\n",
              "      <td>74.097</td>\n",
              "      <td>39065.0</td>\n",
              "      <td>0.000</td>\n",
              "      <td>0.0</td>\n",
              "      <td>-4.0</td>\n",
              "      <td>-19.8</td>\n",
              "      <td>85675</td>\n",
              "      <td>4903</td>\n",
              "      <td>1322</td>\n",
              "      <td>7924</td>\n",
              "      <td>1799</td>\n",
              "      <td>9491</td>\n",
              "    </tr>\n",
              "    <tr>\n",
              "      <th>4</th>\n",
              "      <td>168.955</td>\n",
              "      <td>41933.0</td>\n",
              "      <td>0.000</td>\n",
              "      <td>0.0</td>\n",
              "      <td>-3.0</td>\n",
              "      <td>-19.9</td>\n",
              "      <td>104902</td>\n",
              "      <td>2068</td>\n",
              "      <td>669</td>\n",
              "      <td>137121</td>\n",
              "      <td>3846</td>\n",
              "      <td>937</td>\n",
              "    </tr>\n",
              "  </tbody>\n",
              "</table>\n",
              "</div>"
            ],
            "text/plain": [
              "   Cumulative_YoutubeSess_LTE_DL_Time  Cumulative_YoutubeSess_LTE_DL_Volume  \\\n",
              "0                             100.727                              110854.0   \n",
              "1                               9.324                                  93.0   \n",
              "2                            2715.406                             2271118.0   \n",
              "3                              74.097                               39065.0   \n",
              "4                             168.955                               41933.0   \n",
              "\n",
              "   Cumulative_YoutubeSess_UMTS_DL_Time  Cumulative_YoutubeSess_UMTS_DL_Volume  \\\n",
              "0                                0.000                                    0.0   \n",
              "1                                0.000                                    0.0   \n",
              "2                              580.907                                63891.0   \n",
              "3                                0.000                                    0.0   \n",
              "4                                0.000                                    0.0   \n",
              "\n",
              "   Max_RSRQ  Max_SNR  Cumulative_Full_Service_Time_UMTS  \\\n",
              "0      -6.0     27.8                              53917   \n",
              "1      -3.0    -19.8                              85021   \n",
              "2      -3.0    -19.8                             123462   \n",
              "3      -4.0    -19.8                              85675   \n",
              "4      -3.0    -19.9                             104902   \n",
              "\n",
              "   Cumulative_Lim_Service_Time_UMTS  Cumulative_No_Service_Time_UMTS  \\\n",
              "0                              5636                             2043   \n",
              "1                              1761                             1223   \n",
              "2                              4664                             2715   \n",
              "3                              4903                             1322   \n",
              "4                              2068                              669   \n",
              "\n",
              "   Cumulative_Full_Service_Time_LTE  Cumulative_Lim_Service_Time_LTE  \\\n",
              "0                            213227                             3996   \n",
              "1                             87700                             4287   \n",
              "2                            203846                             5776   \n",
              "3                              7924                             1799   \n",
              "4                            137121                             3846   \n",
              "\n",
              "   Cumulative_No_Service_Time_LTE  \n",
              "0                            2883  \n",
              "1                            1251  \n",
              "2                            8748  \n",
              "3                            9491  \n",
              "4                             937  "
            ]
          },
          "execution_count": 4,
          "metadata": {
            "tags": []
          },
          "output_type": "execute_result"
        }
      ],
      "source": [
        "list(dataset.columns)\n",
        "dataset.head()"
      ]
    },
    {
      "cell_type": "code",
      "execution_count": null,
      "metadata": {
        "colab": {
          "base_uri": "https://localhost:8080/"
        },
        "collapsed": true,
        "id": "wGeDTDT2PEzN",
        "outputId": "6b48dd20-1664-4927-c6e3-9a67ce05779d"
      },
      "outputs": [
        {
          "data": {
            "text/plain": [
              "0    1.0\n",
              "1    0.0\n",
              "2    0.0\n",
              "3    0.0\n",
              "4    1.0\n",
              "Name: User_Satisfaction, dtype: float64"
            ]
          },
          "execution_count": 5,
          "metadata": {
            "tags": []
          },
          "output_type": "execute_result"
        }
      ],
      "source": [
        "ground_truth.value_counts()\n",
        "ground_truth.head()"
      ]
    },
    {
      "cell_type": "markdown",
      "metadata": {
        "id": "eA4gI52-PEzO"
      },
      "source": [
        "# Data Visualization"
      ]
    },
    {
      "cell_type": "code",
      "execution_count": 7,
      "metadata": {
        "id": "YdD0jIi0PEzO"
      },
      "outputs": [],
      "source": [
        "# Here Plot and PreProcess Data for a first Overview and Preliminary Analysis\n",
        "\n",
        "#Visual Tools: Data Distribution, etc."
      ]
    },
    {
      "cell_type": "code",
      "execution_count": null,
      "metadata": {
        "colab": {
          "base_uri": "https://localhost:8080/",
          "height": 322
        },
        "collapsed": true,
        "id": "7lUBsD0OPEzO",
        "outputId": "cf2d7d02-cdec-4663-b8b9-242b3b52e10f"
      },
      "outputs": [
        {
          "data": {
            "image/png": "[encoded data removed]",
            "text/plain": [
              "<Figure size 1440x360 with 1 Axes>"
            ]
          },
          "metadata": {
            "needs_background": "light",
            "tags": []
          },
          "output_type": "display_data"
        }
      ],
      "source": [
        "# Plot Distribution of Cum. Full Service Time in LTE \n",
        "fig, ax = plt.subplots(1, 1, figsize=(20, 5))\n",
        "x = dataset.Cumulative_Full_Service_Time_LTE\n",
        "tmp_0 = ax.hist(x, bins=100)\n",
        "ax.set_ylabel('Bincount')\n",
        "ax.xaxis.label.set_color('red')\n",
        "ax.yaxis.label.set_color('red')\n",
        "ax.tick_params(axis='x', colors='red')\n",
        "ax.tick_params(axis='y', colors='red')"
      ]
    },
    {
      "cell_type": "markdown",
      "metadata": {
        "id": "M0TlEvXUPEzP"
      },
      "source": [
        "# Features Engineering"
      ]
    },
    {
      "cell_type": "code",
      "execution_count": 8,
      "metadata": {
        "id": "sdQgaazTPEzP"
      },
      "outputs": [],
      "source": [
        "# Here Create Features: transform basic features (if needed), create new features, exclude unnecessary\n",
        "# features (i.e., those which are not correlated with target)\n",
        "\n",
        "#Visual Tools: Conditional CDFs with respect to user lables, Conditional Pair-Wise ScatterPlots, etc.  \n",
        "#Mathematical Tools: Mathematical Ttransformations, Features-Target Correlation Analysis, etc."
      ]
    },
    {
      "cell_type": "code",
      "execution_count": 9,
      "metadata": {
        "colab": {
          "base_uri": "https://localhost:8080/",
          "height": 349
        },
        "collapsed": true,
        "id": "oN5eC_PtPEzP",
        "outputId": "1fcf70ba-a535-49fb-a9b8-b301441c3395"
      },
      "outputs": [
        {
          "data": {
            "image/png": "[encoded data removed]",
            "text/plain": [
              "<Figure size 1440x360 with 1 Axes>"
            ]
          },
          "metadata": {
            "needs_background": "light"
          },
          "output_type": "display_data"
        }
      ],
      "source": [
        "fig, aax = plt.subplots(1, 1, figsize=(20, 5))\n",
        "x = dataset.Cumulative_Full_Service_Time_LTE\n",
        "y = ground_truth.copy()\n",
        "bin_edges = np.linspace(min(x), max(x), 101) #define bins to use for plotting the marginal cdfs\n",
        "xlabel = 'Cumulative_Full_Service_Time_LTE'\n",
        "plot_cdf(x, y, bin_edges, aax, xlabel=xlabel)\n"
      ]
    },
    {
      "cell_type": "code",
      "execution_count": null,
      "metadata": {
        "colab": {
          "base_uri": "https://localhost:8080/",
          "height": 335
        },
        "collapsed": true,
        "id": "I_ab6Q8yPEzQ",
        "outputId": "432285cb-1bda-468b-89d6-e4c11a85fe85"
      },
      "outputs": [
        {
          "data": {
            "image/png": "[encoded data removed]",
            "text/plain": [
              "<Figure size 1440x360 with 1 Axes>"
            ]
          },
          "metadata": {
            "needs_background": "light",
            "tags": []
          },
          "output_type": "display_data"
        }
      ],
      "source": [
        "# Show Pearson Correlation Coefficient Between Cum. Full Service Time in LTE vs Users Satisfaction\n",
        "fig, ax = plt.subplots(1, 1, figsize=(20, 5))\n",
        "x = dataset.Cumulative_Full_Service_Time_LTE\n",
        "y = ground_truth.copy()\n",
        "ax.plot(x, y, 'o', alpha=0.3)\n",
        "ax.set_title(\"Pearson's corr: {:.3f}\".format(x.corr(y)), color='red')\n",
        "ax.xaxis.label.set_color('red')\n",
        "ax.yaxis.label.set_color('red')\n",
        "ax.tick_params(axis='x', colors='red')\n",
        "ax.tick_params(axis='y', colors='red')"
      ]
    },
    {
      "cell_type": "markdown",
      "metadata": {
        "id": "qSY8hl6IPEzQ"
      },
      "source": [
        "# Prediction Pipeline"
      ]
    },
    {
      "cell_type": "markdown",
      "metadata": {
        "id": "U_YpIyk0PEzQ"
      },
      "source": [
        "## Select ML Classifiers, HP Candidate Values and K-Fold Validation Structure"
      ]
    },
    {
      "cell_type": "code",
      "execution_count": 10,
      "metadata": {
        "id": "lNpnftbrPEzQ"
      },
      "outputs": [],
      "source": [
        "# Choose k of K-Dold Validation Procedure\n",
        "splits = 2\n",
        "\n",
        "# Select ML Classifiers\n",
        "names = [\"Logistic Regression\"]\n",
        "raw_classifiers = [LogisticRegression(penalty='l2', solver='lbfgs')] #: LR model has 1 Hyper-Parameter, which is the \n",
        "# regularisaton coefficient C. Its value should be tuned according to a K-Fold Validation Procedure.\n",
        "\n",
        "# Choose Hyper-Parameters Candidate Values \n",
        "parameters_grid = [{'C': [0.1,1,5]}]#LR: in this example a grid search is performed over a set of 3 candidate\n",
        "                                        # values for hyper-parameter C\n"
      ]
    },
    {
      "cell_type": "markdown",
      "metadata": {
        "id": "xnPhEks8PEzR"
      },
      "source": [
        "## Tune ML Classifiers through a K-Fold Validation"
      ]
    },
    {
      "cell_type": "code",
      "execution_count": 11,
      "metadata": {
        "colab": {
          "base_uri": "https://localhost:8080/",
          "height": 243
        },
        "collapsed": true,
        "id": "SV77nM2nPEzR",
        "outputId": "e5871217-5780-41f5-8dfa-13a8f05b537d"
      },
      "outputs": [
        {
          "name": "stdout",
          "output_type": "stream",
          "text": [
            "********************\n",
            "% of Class 1 in Training :  1.0 ; % of Class 0 in Training:  1.0\n",
            "Shape Training Set : (18970, 12) , (18970, 12)\n",
            "********************\n",
            "Choose Best hyper-parameters through Cross Validation\n",
            "############\n",
            " Classifier Logistic Regression - Processing\n"
          ]
        },
        {
          "ename": "TypeError",
          "evalue": "__init__() got an unexpected keyword argument 'iid'",
          "output_type": "error",
          "traceback": [
            "\u001b[0;31m---------------------------------------------------------------------------\u001b[0m",
            "\u001b[0;31mTypeError\u001b[0m                                 Traceback (most recent call last)",
            "\u001b[1;32m/home/alessandro/Documents/PoliMi/qoe-lte-networks/MRN_Project1_Template.ipynb Cell 19\u001b[0m in \u001b[0;36m<cell line: 15>\u001b[0;34m()\u001b[0m\n\u001b[1;32m     <a href='vscode-notebook-cell://wsl%2Bubuntu/home/alessandro/Documents/PoliMi/qoe-lte-networks/MRN_Project1_Template.ipynb#X24sdnNjb2RlLXJlbW90ZQ%3D%3D?line=11'>12</a>\u001b[0m \u001b[39mprint\u001b[39m(\u001b[39m20\u001b[39m\u001b[39m*\u001b[39m\u001b[39m'\u001b[39m\u001b[39m*\u001b[39m\u001b[39m'\u001b[39m)\n\u001b[1;32m     <a href='vscode-notebook-cell://wsl%2Bubuntu/home/alessandro/Documents/PoliMi/qoe-lte-networks/MRN_Project1_Template.ipynb#X24sdnNjb2RlLXJlbW90ZQ%3D%3D?line=13'>14</a>\u001b[0m \u001b[39m# Select Best Hyperparameter Value for This Fold\u001b[39;00m\n\u001b[0;32m---> <a href='vscode-notebook-cell://wsl%2Bubuntu/home/alessandro/Documents/PoliMi/qoe-lte-networks/MRN_Project1_Template.ipynb#X24sdnNjb2RlLXJlbW90ZQ%3D%3D?line=14'>15</a>\u001b[0m hp_values \u001b[39m=\u001b[39m hyperparameter_tuning(dataset, ground_truth, names, \n\u001b[1;32m     <a href='vscode-notebook-cell://wsl%2Bubuntu/home/alessandro/Documents/PoliMi/qoe-lte-networks/MRN_Project1_Template.ipynb#X24sdnNjb2RlLXJlbW90ZQ%3D%3D?line=15'>16</a>\u001b[0m                       raw_classifiers, parameters_grid, n_splits_in\u001b[39m=\u001b[39;49msplits)\n\u001b[1;32m     <a href='vscode-notebook-cell://wsl%2Bubuntu/home/alessandro/Documents/PoliMi/qoe-lte-networks/MRN_Project1_Template.ipynb#X24sdnNjb2RlLXJlbW90ZQ%3D%3D?line=17'>18</a>\u001b[0m hp_values\u001b[39m.\u001b[39mhead()\n",
            "\u001b[1;32m/home/alessandro/Documents/PoliMi/qoe-lte-networks/MRN_Project1_Template.ipynb Cell 19\u001b[0m in \u001b[0;36mhyperparameter_tuning\u001b[0;34m(train_sample, train_target, names, classifiers, parameters_grid, n_splits_in, ref_metric)\u001b[0m\n\u001b[1;32m     <a href='vscode-notebook-cell://wsl%2Bubuntu/home/alessandro/Documents/PoliMi/qoe-lte-networks/MRN_Project1_Template.ipynb#X24sdnNjb2RlLXJlbW90ZQ%3D%3D?line=87'>88</a>\u001b[0m \u001b[39mprint\u001b[39m(\u001b[39m'\u001b[39m\u001b[39m Classifier \u001b[39m\u001b[39m{}\u001b[39;00m\u001b[39m - Processing\u001b[39m\u001b[39m'\u001b[39m\u001b[39m.\u001b[39mformat(name))\n\u001b[1;32m     <a href='vscode-notebook-cell://wsl%2Bubuntu/home/alessandro/Documents/PoliMi/qoe-lte-networks/MRN_Project1_Template.ipynb#X24sdnNjb2RlLXJlbW90ZQ%3D%3D?line=88'>89</a>\u001b[0m grid \u001b[39m=\u001b[39m parameters_grid[names\u001b[39m.\u001b[39mindex(name)] \u001b[39m#take hyper-parameters candidate values grid \u001b[39;00m\n\u001b[0;32m---> <a href='vscode-notebook-cell://wsl%2Bubuntu/home/alessandro/Documents/PoliMi/qoe-lte-networks/MRN_Project1_Template.ipynb#X24sdnNjb2RlLXJlbW90ZQ%3D%3D?line=89'>90</a>\u001b[0m estimator \u001b[39m=\u001b[39m model_selection\u001b[39m.\u001b[39;49mGridSearchCV(clf, grid, scoring\u001b[39m=\u001b[39;49mref_metric, iid\u001b[39m=\u001b[39;49m\u001b[39mTrue\u001b[39;49;00m,refit\u001b[39m=\u001b[39;49m\u001b[39mTrue\u001b[39;49;00m,\n\u001b[1;32m     <a href='vscode-notebook-cell://wsl%2Bubuntu/home/alessandro/Documents/PoliMi/qoe-lte-networks/MRN_Project1_Template.ipynb#X24sdnNjb2RlLXJlbW90ZQ%3D%3D?line=90'>91</a>\u001b[0m                                          cv\u001b[39m=\u001b[39;49mn_splits_in)\u001b[39m.\u001b[39mfit(train_sample, train_target) \u001b[39m#Grid Search \u001b[39;00m\n\u001b[1;32m     <a href='vscode-notebook-cell://wsl%2Bubuntu/home/alessandro/Documents/PoliMi/qoe-lte-networks/MRN_Project1_Template.ipynb#X24sdnNjb2RlLXJlbW90ZQ%3D%3D?line=91'>92</a>\u001b[0m bp \u001b[39m=\u001b[39m estimator\u001b[39m.\u001b[39mbest_params_\n\u001b[1;32m     <a href='vscode-notebook-cell://wsl%2Bubuntu/home/alessandro/Documents/PoliMi/qoe-lte-networks/MRN_Project1_Template.ipynb#X24sdnNjb2RlLXJlbW90ZQ%3D%3D?line=92'>93</a>\u001b[0m \u001b[39mprint\u001b[39m(\u001b[39m'\u001b[39m\u001b[39m Best Parameters Values: \u001b[39m\u001b[39m{}\u001b[39;00m\u001b[39m'\u001b[39m\u001b[39m.\u001b[39mformat(bp))\n",
            "\u001b[0;31mTypeError\u001b[0m: __init__() got an unexpected keyword argument 'iid'"
          ]
        }
      ],
      "source": [
        "## NORMALISE DATA\n",
        "mean = dataset.mean(axis=0)\n",
        "std = dataset.std(axis=0)\n",
        "dataset = (dataset - mean) / std\n",
        "dataset.dropna(inplace=True) #check data consistency\n",
        "\n",
        "# Print Info\n",
        "print(20*'*')\n",
        "print('% of Class 1 in Training : ', len(dataset[dataset == 1]) / len(dataset),\n",
        "      '; % of Class 0 in Training: ', len(dataset[dataset == 0]) / len(dataset))\n",
        "print('Shape Training Set :', dataset.shape, ',', dataset.shape)\n",
        "print(20*'*')\n",
        "\n",
        "# Select Best Hyperparameter Value for This Fold\n",
        "hp_values = hyperparameter_tuning(dataset, ground_truth, names, \n",
        "                      raw_classifiers, parameters_grid, n_splits_in=splits)\n",
        "\n",
        "hp_values.head()\n"
      ]
    },
    {
      "cell_type": "markdown",
      "metadata": {
        "id": "0mWMjGPuPEzS"
      },
      "source": [
        "## Evaluate Performance on Test Set, where each ML Classifier work with best HP Values "
      ]
    },
    {
      "cell_type": "code",
      "execution_count": 13,
      "metadata": {
        "colab": {
          "base_uri": "https://localhost:8080/",
          "height": 517
        },
        "collapsed": true,
        "id": "c2hwlyGMPEzS",
        "outputId": "c4fa5d31-ea57-4f90-d515-db734f7fd6eb"
      },
      "outputs": [
        {
          "name": "stdout",
          "output_type": "stream",
          "text": [
            "Test Data: (4743, 12)\n",
            "Test Target: (4743,)\n"
          ]
        },
        {
          "ename": "NameError",
          "evalue": "name 'hp_values' is not defined",
          "output_type": "error",
          "traceback": [
            "\u001b[0;31m---------------------------------------------------------------------------\u001b[0m",
            "\u001b[0;31mNameError\u001b[0m                                 Traceback (most recent call last)",
            "\u001b[1;32m/home/alessandro/Documents/PoliMi/qoe-lte-networks/MRN_Project1_Template.ipynb Cell 21\u001b[0m in \u001b[0;36m<cell line: 12>\u001b[0;34m()\u001b[0m\n\u001b[1;32m      <a href='vscode-notebook-cell://wsl%2Bubuntu/home/alessandro/Documents/PoliMi/qoe-lte-networks/MRN_Project1_Template.ipynb#X26sdnNjb2RlLXJlbW90ZQ%3D%3D?line=8'>9</a>\u001b[0m \u001b[39m# Select ML Classifiers and Fix the HP Values to the best values found in previous iteration\u001b[39;00m\n\u001b[1;32m     <a href='vscode-notebook-cell://wsl%2Bubuntu/home/alessandro/Documents/PoliMi/qoe-lte-networks/MRN_Project1_Template.ipynb#X26sdnNjb2RlLXJlbW90ZQ%3D%3D?line=9'>10</a>\u001b[0m \u001b[39m# of the pipeline\u001b[39;00m\n\u001b[1;32m     <a href='vscode-notebook-cell://wsl%2Bubuntu/home/alessandro/Documents/PoliMi/qoe-lte-networks/MRN_Project1_Template.ipynb#X26sdnNjb2RlLXJlbW90ZQ%3D%3D?line=10'>11</a>\u001b[0m names \u001b[39m=\u001b[39m [\u001b[39m\"\u001b[39m\u001b[39mLogistic Regression\u001b[39m\u001b[39m\"\u001b[39m]\n\u001b[0;32m---> <a href='vscode-notebook-cell://wsl%2Bubuntu/home/alessandro/Documents/PoliMi/qoe-lte-networks/MRN_Project1_Template.ipynb#X26sdnNjb2RlLXJlbW90ZQ%3D%3D?line=11'>12</a>\u001b[0m reg_coeff \u001b[39m=\u001b[39m hp_values\u001b[39m.\u001b[39mloc[\u001b[39m\"\u001b[39m\u001b[39mLogistic Regression\u001b[39m\u001b[39m\"\u001b[39m,\u001b[39m\"\u001b[39m\u001b[39mBestHP_Values\u001b[39m\u001b[39m\"\u001b[39m][\u001b[39m0\u001b[39m]\n\u001b[1;32m     <a href='vscode-notebook-cell://wsl%2Bubuntu/home/alessandro/Documents/PoliMi/qoe-lte-networks/MRN_Project1_Template.ipynb#X26sdnNjb2RlLXJlbW90ZQ%3D%3D?line=12'>13</a>\u001b[0m classifiers \u001b[39m=\u001b[39m [LogisticRegression(C \u001b[39m=\u001b[39m reg_coeff, penalty\u001b[39m=\u001b[39m\u001b[39m'\u001b[39m\u001b[39ml2\u001b[39m\u001b[39m'\u001b[39m, solver\u001b[39m=\u001b[39m\u001b[39m'\u001b[39m\u001b[39mlbfgs\u001b[39m\u001b[39m'\u001b[39m)]\n\u001b[1;32m     <a href='vscode-notebook-cell://wsl%2Bubuntu/home/alessandro/Documents/PoliMi/qoe-lte-networks/MRN_Project1_Template.ipynb#X26sdnNjb2RlLXJlbW90ZQ%3D%3D?line=14'>15</a>\u001b[0m \u001b[39m## NORMALISE DATA (Always with refer to Train Data)\u001b[39;00m\n",
            "\u001b[0;31mNameError\u001b[0m: name 'hp_values' is not defined"
          ]
        }
      ],
      "source": [
        "# Import Test Data\n",
        "basic_test = pd.read_csv(path+'BasicDataset_Test_MRN.csv')\n",
        "dataset_test = basic_test.drop(['User_Satisfaction','Unnamed: 0', 'Unnamed: 0.1'], axis=1)\n",
        "ground_truth_test = basic_test.loc[:, 'User_Satisfaction'].copy()\n",
        "print('Test Data:', dataset_test.shape)\n",
        "print('Test Target:', ground_truth_test.shape)\n",
        "\n",
        "\n",
        "# Select ML Classifiers and Fix the HP Values to the best values found in previous iteration\n",
        "# of the pipeline\n",
        "names = [\"Logistic Regression\"]\n",
        "reg_coeff = hp_values.loc[\"Logistic Regression\",\"BestHP_Values\"][0]\n",
        "classifiers = [LogisticRegression(C = reg_coeff, penalty='l2', solver='lbfgs')]\n",
        "\n",
        "## NORMALISE DATA (Always with refer to Train Data)\n",
        "dataset_test = (dataset_test - mean) / std\n",
        "dataset_test.dropna(inplace=True) #check data consistency\n",
        "\n",
        "# Print Info\n",
        "print(20*'*')\n",
        "print('% of Class 1 in Testing : ', len(dataset_test[dataset_test == 1]) / len(dataset_test),\n",
        "      '; % of Class 0 in Testing: ', len(dataset_test[dataset_test == 0]) / len(dataset_test))\n",
        "print('Shape Test Set :', dataset_test.shape, ',', dataset_test.shape)\n",
        "print(20*'*')\n",
        "\n",
        "# Print Performance on Test Set\n",
        "performance = direct_prediction(dataset, ground_truth, \n",
        "                                dataset_test, ground_truth_test, \n",
        "                                names, classifiers)\n",
        "\n",
        "performance.head()"
      ]
    },
    {
      "cell_type": "code",
      "execution_count": null,
      "metadata": {
        "id": "koljHV6-mMeG"
      },
      "outputs": [],
      "source": []
    }
  ],
  "metadata": {
    "colab": {
      "collapsed_sections": [],
      "name": "MRN_Project1_Template.ipynb",
      "provenance": []
    },
    "kernelspec": {
      "display_name": "Python 3.8.10 64-bit",
      "language": "python",
      "name": "python3"
    },
    "language_info": {
      "codemirror_mode": {
        "name": "ipython",
        "version": 3
      },
      "file_extension": ".py",
      "mimetype": "text/x-python",
      "name": "python",
      "nbconvert_exporter": "python",
      "pygments_lexer": "ipython3",
      "version": "3.8.10"
    },
    "vscode": {
      "interpreter": {
        "hash": "e7370f93d1d0cde622a1f8e1c04877d8463912d04d973331ad4851f04de6915a"
      }
    }
  },
  "nbformat": 4,
  "nbformat_minor": 0
}
